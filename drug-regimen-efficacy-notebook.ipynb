{
 "cells": [
  {
   "cell_type": "markdown",
   "metadata": {},
   "source": [
    "## Observations and Insights "
   ]
  },
  {
   "cell_type": "markdown",
   "metadata": {},
   "source": [
    "**Drug Regimen Efficacy**\n",
    "Of the drug regimens attempted, Capomulin and Ramicane were the most likely to succeed in reducing tumor size. You can see this bear out in the \"Quartiles, Outliers and Boxplots\" section of this report. Ramican and Capomulin have much smaller tumor volumes at the final timepoint compared to Infubinol and Naftisol. \n",
    "\n",
    "**Largest Dataset: Capomulin**\n",
    "As you can see in bar charts of the number of measurements for each drug regimen, Capomulin has the most measurements. Considering that Capomulin was one of the more effective drugs, this makes sense. It's possible to extrapolate the conclusion that less effective drug regimens resulted in the earlier deaths of the corresponding mice. \n",
    "\n",
    "**Size of Tumor and Mouse Weight Are Correlated**\n",
    "If you look at the linear regression model at the bottom of this report, you can see that, for the most part, tumor size increased along with the size of the mouse. \n"
   ]
  },
  {
   "cell_type": "markdown",
   "metadata": {},
   "source": [
    "## Code & Analysis"
   ]
  },
  {
   "cell_type": "code",
   "execution_count": 37,
   "metadata": {},
   "outputs": [
    {
     "data": {
      "text/html": [
       "<div>\n",
       "<style scoped>\n",
       "    .dataframe tbody tr th:only-of-type {\n",
       "        vertical-align: middle;\n",
       "    }\n",
       "\n",
       "    .dataframe tbody tr th {\n",
       "        vertical-align: top;\n",
       "    }\n",
       "\n",
       "    .dataframe thead th {\n",
       "        text-align: right;\n",
       "    }\n",
       "</style>\n",
       "<table border=\"1\" class=\"dataframe\">\n",
       "  <thead>\n",
       "    <tr style=\"text-align: right;\">\n",
       "      <th></th>\n",
       "      <th>Mouse ID</th>\n",
       "      <th>Drug Regimen</th>\n",
       "      <th>Sex</th>\n",
       "      <th>Age_months</th>\n",
       "      <th>Weight (g)</th>\n",
       "      <th>Timepoint</th>\n",
       "      <th>Tumor Volume (mm3)</th>\n",
       "      <th>Metastatic Sites</th>\n",
       "    </tr>\n",
       "  </thead>\n",
       "  <tbody>\n",
       "    <tr>\n",
       "      <th>0</th>\n",
       "      <td>k403</td>\n",
       "      <td>Ramicane</td>\n",
       "      <td>Male</td>\n",
       "      <td>21</td>\n",
       "      <td>16</td>\n",
       "      <td>0</td>\n",
       "      <td>45.000000</td>\n",
       "      <td>0</td>\n",
       "    </tr>\n",
       "    <tr>\n",
       "      <th>1</th>\n",
       "      <td>k403</td>\n",
       "      <td>Ramicane</td>\n",
       "      <td>Male</td>\n",
       "      <td>21</td>\n",
       "      <td>16</td>\n",
       "      <td>5</td>\n",
       "      <td>38.825898</td>\n",
       "      <td>0</td>\n",
       "    </tr>\n",
       "    <tr>\n",
       "      <th>2</th>\n",
       "      <td>k403</td>\n",
       "      <td>Ramicane</td>\n",
       "      <td>Male</td>\n",
       "      <td>21</td>\n",
       "      <td>16</td>\n",
       "      <td>10</td>\n",
       "      <td>35.014271</td>\n",
       "      <td>1</td>\n",
       "    </tr>\n",
       "    <tr>\n",
       "      <th>3</th>\n",
       "      <td>k403</td>\n",
       "      <td>Ramicane</td>\n",
       "      <td>Male</td>\n",
       "      <td>21</td>\n",
       "      <td>16</td>\n",
       "      <td>15</td>\n",
       "      <td>34.223992</td>\n",
       "      <td>1</td>\n",
       "    </tr>\n",
       "    <tr>\n",
       "      <th>4</th>\n",
       "      <td>k403</td>\n",
       "      <td>Ramicane</td>\n",
       "      <td>Male</td>\n",
       "      <td>21</td>\n",
       "      <td>16</td>\n",
       "      <td>20</td>\n",
       "      <td>32.997729</td>\n",
       "      <td>1</td>\n",
       "    </tr>\n",
       "    <tr>\n",
       "      <th>...</th>\n",
       "      <td>...</td>\n",
       "      <td>...</td>\n",
       "      <td>...</td>\n",
       "      <td>...</td>\n",
       "      <td>...</td>\n",
       "      <td>...</td>\n",
       "      <td>...</td>\n",
       "      <td>...</td>\n",
       "    </tr>\n",
       "    <tr>\n",
       "      <th>1888</th>\n",
       "      <td>z969</td>\n",
       "      <td>Naftisol</td>\n",
       "      <td>Male</td>\n",
       "      <td>9</td>\n",
       "      <td>30</td>\n",
       "      <td>25</td>\n",
       "      <td>63.145652</td>\n",
       "      <td>2</td>\n",
       "    </tr>\n",
       "    <tr>\n",
       "      <th>1889</th>\n",
       "      <td>z969</td>\n",
       "      <td>Naftisol</td>\n",
       "      <td>Male</td>\n",
       "      <td>9</td>\n",
       "      <td>30</td>\n",
       "      <td>30</td>\n",
       "      <td>65.841013</td>\n",
       "      <td>3</td>\n",
       "    </tr>\n",
       "    <tr>\n",
       "      <th>1890</th>\n",
       "      <td>z969</td>\n",
       "      <td>Naftisol</td>\n",
       "      <td>Male</td>\n",
       "      <td>9</td>\n",
       "      <td>30</td>\n",
       "      <td>35</td>\n",
       "      <td>69.176246</td>\n",
       "      <td>4</td>\n",
       "    </tr>\n",
       "    <tr>\n",
       "      <th>1891</th>\n",
       "      <td>z969</td>\n",
       "      <td>Naftisol</td>\n",
       "      <td>Male</td>\n",
       "      <td>9</td>\n",
       "      <td>30</td>\n",
       "      <td>40</td>\n",
       "      <td>70.314904</td>\n",
       "      <td>4</td>\n",
       "    </tr>\n",
       "    <tr>\n",
       "      <th>1892</th>\n",
       "      <td>z969</td>\n",
       "      <td>Naftisol</td>\n",
       "      <td>Male</td>\n",
       "      <td>9</td>\n",
       "      <td>30</td>\n",
       "      <td>45</td>\n",
       "      <td>73.867845</td>\n",
       "      <td>4</td>\n",
       "    </tr>\n",
       "  </tbody>\n",
       "</table>\n",
       "<p>1893 rows × 8 columns</p>\n",
       "</div>"
      ],
      "text/plain": [
       "     Mouse ID Drug Regimen   Sex  Age_months  Weight (g)  Timepoint  \\\n",
       "0        k403     Ramicane  Male          21          16          0   \n",
       "1        k403     Ramicane  Male          21          16          5   \n",
       "2        k403     Ramicane  Male          21          16         10   \n",
       "3        k403     Ramicane  Male          21          16         15   \n",
       "4        k403     Ramicane  Male          21          16         20   \n",
       "...       ...          ...   ...         ...         ...        ...   \n",
       "1888     z969     Naftisol  Male           9          30         25   \n",
       "1889     z969     Naftisol  Male           9          30         30   \n",
       "1890     z969     Naftisol  Male           9          30         35   \n",
       "1891     z969     Naftisol  Male           9          30         40   \n",
       "1892     z969     Naftisol  Male           9          30         45   \n",
       "\n",
       "      Tumor Volume (mm3)  Metastatic Sites  \n",
       "0              45.000000                 0  \n",
       "1              38.825898                 0  \n",
       "2              35.014271                 1  \n",
       "3              34.223992                 1  \n",
       "4              32.997729                 1  \n",
       "...                  ...               ...  \n",
       "1888           63.145652                 2  \n",
       "1889           65.841013                 3  \n",
       "1890           69.176246                 4  \n",
       "1891           70.314904                 4  \n",
       "1892           73.867845                 4  \n",
       "\n",
       "[1893 rows x 8 columns]"
      ]
     },
     "execution_count": 37,
     "metadata": {},
     "output_type": "execute_result"
    }
   ],
   "source": [
    "# Dependencies and Setup\n",
    "import matplotlib.pyplot as plt\n",
    "import numpy as np\n",
    "import pandas as pd\n",
    "import scipy.stats as st\n",
    "from prompt_toolkit import print_formatted_text, HTML\n",
    "\n",
    "# Study data files\n",
    "mouse_metadata = \"Resources/Mouse_metadata.csv\"\n",
    "study_results = \"Resources/Study_results.csv\"\n",
    "\n",
    "# Read the mouse data and the study results\n",
    "mouse_metadata = pd.read_csv(mouse_metadata)\n",
    "study_results = pd.read_csv(study_results)\n",
    "\n",
    "# Combine the data into a single dataset\n",
    "merged_df = mouse_metadata.merge(study_results, how=\"outer\", on=\"Mouse ID\")\n",
    "\n",
    "# Display the data table for preview\n",
    "merged_df"
   ]
  },
  {
   "cell_type": "code",
   "execution_count": 3,
   "metadata": {},
   "outputs": [
    {
     "data": {
      "text/html": [
       "<div>\n",
       "<style scoped>\n",
       "    .dataframe tbody tr th:only-of-type {\n",
       "        vertical-align: middle;\n",
       "    }\n",
       "\n",
       "    .dataframe tbody tr th {\n",
       "        vertical-align: top;\n",
       "    }\n",
       "\n",
       "    .dataframe thead th {\n",
       "        text-align: right;\n",
       "    }\n",
       "</style>\n",
       "<table border=\"1\" class=\"dataframe\">\n",
       "  <thead>\n",
       "    <tr style=\"text-align: right;\">\n",
       "      <th></th>\n",
       "      <th>Total Mice</th>\n",
       "    </tr>\n",
       "  </thead>\n",
       "  <tbody>\n",
       "    <tr>\n",
       "      <th>0</th>\n",
       "      <td>1893</td>\n",
       "    </tr>\n",
       "  </tbody>\n",
       "</table>\n",
       "</div>"
      ],
      "text/plain": [
       "   Total Mice\n",
       "0        1893"
      ]
     },
     "execution_count": 3,
     "metadata": {},
     "output_type": "execute_result"
    }
   ],
   "source": [
    "# Checking the number of mice.\n",
    "# unique_mice = merged_df['Mouse ID'].nunique()\n",
    "total_mice = merged_df['Mouse ID'].count()\n",
    "mice_numbers_df = pd.DataFrame({\"Total Mice\" :[total_mice]})\n",
    "mice_numbers_df"
   ]
  },
  {
   "cell_type": "code",
   "execution_count": 4,
   "metadata": {},
   "outputs": [],
   "source": [
    "# Getting the duplicate mice by ID number that shows up for Mouse ID and Timepoint. \n",
    "\n"
   ]
  },
  {
   "cell_type": "code",
   "execution_count": 5,
   "metadata": {},
   "outputs": [],
   "source": [
    "# Optional: Get all the data for the duplicate mouse ID. \n",
    "\n"
   ]
  },
  {
   "cell_type": "code",
   "execution_count": 6,
   "metadata": {},
   "outputs": [
    {
     "data": {
      "text/html": [
       "<div>\n",
       "<style scoped>\n",
       "    .dataframe tbody tr th:only-of-type {\n",
       "        vertical-align: middle;\n",
       "    }\n",
       "\n",
       "    .dataframe tbody tr th {\n",
       "        vertical-align: top;\n",
       "    }\n",
       "\n",
       "    .dataframe thead th {\n",
       "        text-align: right;\n",
       "    }\n",
       "</style>\n",
       "<table border=\"1\" class=\"dataframe\">\n",
       "  <thead>\n",
       "    <tr style=\"text-align: right;\">\n",
       "      <th></th>\n",
       "      <th>Mouse ID</th>\n",
       "      <th>Drug Regimen</th>\n",
       "      <th>Sex</th>\n",
       "      <th>Age_months</th>\n",
       "      <th>Weight (g)</th>\n",
       "      <th>Timepoint</th>\n",
       "      <th>Tumor Volume (mm3)</th>\n",
       "      <th>Metastatic Sites</th>\n",
       "    </tr>\n",
       "  </thead>\n",
       "  <tbody>\n",
       "    <tr>\n",
       "      <th>0</th>\n",
       "      <td>k403</td>\n",
       "      <td>Ramicane</td>\n",
       "      <td>Male</td>\n",
       "      <td>21</td>\n",
       "      <td>16</td>\n",
       "      <td>0</td>\n",
       "      <td>45.000000</td>\n",
       "      <td>0</td>\n",
       "    </tr>\n",
       "    <tr>\n",
       "      <th>1</th>\n",
       "      <td>k403</td>\n",
       "      <td>Ramicane</td>\n",
       "      <td>Male</td>\n",
       "      <td>21</td>\n",
       "      <td>16</td>\n",
       "      <td>5</td>\n",
       "      <td>38.825898</td>\n",
       "      <td>0</td>\n",
       "    </tr>\n",
       "    <tr>\n",
       "      <th>2</th>\n",
       "      <td>k403</td>\n",
       "      <td>Ramicane</td>\n",
       "      <td>Male</td>\n",
       "      <td>21</td>\n",
       "      <td>16</td>\n",
       "      <td>10</td>\n",
       "      <td>35.014271</td>\n",
       "      <td>1</td>\n",
       "    </tr>\n",
       "    <tr>\n",
       "      <th>3</th>\n",
       "      <td>k403</td>\n",
       "      <td>Ramicane</td>\n",
       "      <td>Male</td>\n",
       "      <td>21</td>\n",
       "      <td>16</td>\n",
       "      <td>15</td>\n",
       "      <td>34.223992</td>\n",
       "      <td>1</td>\n",
       "    </tr>\n",
       "    <tr>\n",
       "      <th>4</th>\n",
       "      <td>k403</td>\n",
       "      <td>Ramicane</td>\n",
       "      <td>Male</td>\n",
       "      <td>21</td>\n",
       "      <td>16</td>\n",
       "      <td>20</td>\n",
       "      <td>32.997729</td>\n",
       "      <td>1</td>\n",
       "    </tr>\n",
       "    <tr>\n",
       "      <th>...</th>\n",
       "      <td>...</td>\n",
       "      <td>...</td>\n",
       "      <td>...</td>\n",
       "      <td>...</td>\n",
       "      <td>...</td>\n",
       "      <td>...</td>\n",
       "      <td>...</td>\n",
       "      <td>...</td>\n",
       "    </tr>\n",
       "    <tr>\n",
       "      <th>1888</th>\n",
       "      <td>z969</td>\n",
       "      <td>Naftisol</td>\n",
       "      <td>Male</td>\n",
       "      <td>9</td>\n",
       "      <td>30</td>\n",
       "      <td>25</td>\n",
       "      <td>63.145652</td>\n",
       "      <td>2</td>\n",
       "    </tr>\n",
       "    <tr>\n",
       "      <th>1889</th>\n",
       "      <td>z969</td>\n",
       "      <td>Naftisol</td>\n",
       "      <td>Male</td>\n",
       "      <td>9</td>\n",
       "      <td>30</td>\n",
       "      <td>30</td>\n",
       "      <td>65.841013</td>\n",
       "      <td>3</td>\n",
       "    </tr>\n",
       "    <tr>\n",
       "      <th>1890</th>\n",
       "      <td>z969</td>\n",
       "      <td>Naftisol</td>\n",
       "      <td>Male</td>\n",
       "      <td>9</td>\n",
       "      <td>30</td>\n",
       "      <td>35</td>\n",
       "      <td>69.176246</td>\n",
       "      <td>4</td>\n",
       "    </tr>\n",
       "    <tr>\n",
       "      <th>1891</th>\n",
       "      <td>z969</td>\n",
       "      <td>Naftisol</td>\n",
       "      <td>Male</td>\n",
       "      <td>9</td>\n",
       "      <td>30</td>\n",
       "      <td>40</td>\n",
       "      <td>70.314904</td>\n",
       "      <td>4</td>\n",
       "    </tr>\n",
       "    <tr>\n",
       "      <th>1892</th>\n",
       "      <td>z969</td>\n",
       "      <td>Naftisol</td>\n",
       "      <td>Male</td>\n",
       "      <td>9</td>\n",
       "      <td>30</td>\n",
       "      <td>45</td>\n",
       "      <td>73.867845</td>\n",
       "      <td>4</td>\n",
       "    </tr>\n",
       "  </tbody>\n",
       "</table>\n",
       "<p>1888 rows × 8 columns</p>\n",
       "</div>"
      ],
      "text/plain": [
       "     Mouse ID Drug Regimen   Sex  Age_months  Weight (g)  Timepoint  \\\n",
       "0        k403     Ramicane  Male          21          16          0   \n",
       "1        k403     Ramicane  Male          21          16          5   \n",
       "2        k403     Ramicane  Male          21          16         10   \n",
       "3        k403     Ramicane  Male          21          16         15   \n",
       "4        k403     Ramicane  Male          21          16         20   \n",
       "...       ...          ...   ...         ...         ...        ...   \n",
       "1888     z969     Naftisol  Male           9          30         25   \n",
       "1889     z969     Naftisol  Male           9          30         30   \n",
       "1890     z969     Naftisol  Male           9          30         35   \n",
       "1891     z969     Naftisol  Male           9          30         40   \n",
       "1892     z969     Naftisol  Male           9          30         45   \n",
       "\n",
       "      Tumor Volume (mm3)  Metastatic Sites  \n",
       "0              45.000000                 0  \n",
       "1              38.825898                 0  \n",
       "2              35.014271                 1  \n",
       "3              34.223992                 1  \n",
       "4              32.997729                 1  \n",
       "...                  ...               ...  \n",
       "1888           63.145652                 2  \n",
       "1889           65.841013                 3  \n",
       "1890           69.176246                 4  \n",
       "1891           70.314904                 4  \n",
       "1892           73.867845                 4  \n",
       "\n",
       "[1888 rows x 8 columns]"
      ]
     },
     "execution_count": 6,
     "metadata": {},
     "output_type": "execute_result"
    }
   ],
   "source": [
    "# Create a clean DataFrame by dropping the duplicate mouse by its ID.\n",
    "clean_data_df = merged_df.drop_duplicates(subset=[\"Mouse ID\", \"Timepoint\"])\n",
    "clean_data_df"
   ]
  },
  {
   "cell_type": "code",
   "execution_count": 7,
   "metadata": {},
   "outputs": [
    {
     "data": {
      "text/html": [
       "<div>\n",
       "<style scoped>\n",
       "    .dataframe tbody tr th:only-of-type {\n",
       "        vertical-align: middle;\n",
       "    }\n",
       "\n",
       "    .dataframe tbody tr th {\n",
       "        vertical-align: top;\n",
       "    }\n",
       "\n",
       "    .dataframe thead th {\n",
       "        text-align: right;\n",
       "    }\n",
       "</style>\n",
       "<table border=\"1\" class=\"dataframe\">\n",
       "  <thead>\n",
       "    <tr style=\"text-align: right;\">\n",
       "      <th></th>\n",
       "      <th>Total Mice</th>\n",
       "    </tr>\n",
       "  </thead>\n",
       "  <tbody>\n",
       "    <tr>\n",
       "      <th>0</th>\n",
       "      <td>1888</td>\n",
       "    </tr>\n",
       "  </tbody>\n",
       "</table>\n",
       "</div>"
      ],
      "text/plain": [
       "   Total Mice\n",
       "0        1888"
      ]
     },
     "execution_count": 7,
     "metadata": {},
     "output_type": "execute_result"
    }
   ],
   "source": [
    "# Checking the number of mice in the clean DataFrame.\n",
    "clean_mice = clean_data_df['Mouse ID'].count()\n",
    "mice_numbers_df = pd.DataFrame({\"Total Mice\" :[clean_mice]})\n",
    "mice_numbers_df"
   ]
  },
  {
   "cell_type": "markdown",
   "metadata": {},
   "source": [
    "## Summary Statistics"
   ]
  },
  {
   "cell_type": "code",
   "execution_count": 8,
   "metadata": {},
   "outputs": [
    {
     "data": {
      "text/html": [
       "<style  type=\"text/css\" >\n",
       "</style><table id=\"T_455aa207_b8db_11eb_9ff7_3868937faa93\" ><thead>    <tr>        <th class=\"blank level0\" ></th>        <th class=\"col_heading level0 col0\" >Mean</th>        <th class=\"col_heading level0 col1\" >Median</th>        <th class=\"col_heading level0 col2\" >Variance</th>        <th class=\"col_heading level0 col3\" >Standard Deviation</th>        <th class=\"col_heading level0 col4\" >SEM</th>    </tr>    <tr>        <th class=\"index_name level0\" >Drug Regimen</th>        <th class=\"blank\" ></th>        <th class=\"blank\" ></th>        <th class=\"blank\" ></th>        <th class=\"blank\" ></th>        <th class=\"blank\" ></th>    </tr></thead><tbody>\n",
       "                <tr>\n",
       "                        <th id=\"T_455aa207_b8db_11eb_9ff7_3868937faa93level0_row0\" class=\"row_heading level0 row0\" >Capomulin</th>\n",
       "                        <td id=\"T_455aa207_b8db_11eb_9ff7_3868937faa93row0_col0\" class=\"data row0 col0\" >40.68</td>\n",
       "                        <td id=\"T_455aa207_b8db_11eb_9ff7_3868937faa93row0_col1\" class=\"data row0 col1\" >41.56</td>\n",
       "                        <td id=\"T_455aa207_b8db_11eb_9ff7_3868937faa93row0_col2\" class=\"data row0 col2\" >24.95</td>\n",
       "                        <td id=\"T_455aa207_b8db_11eb_9ff7_3868937faa93row0_col3\" class=\"data row0 col3\" >4.99</td>\n",
       "                        <td id=\"T_455aa207_b8db_11eb_9ff7_3868937faa93row0_col4\" class=\"data row0 col4\" >0.33</td>\n",
       "            </tr>\n",
       "            <tr>\n",
       "                        <th id=\"T_455aa207_b8db_11eb_9ff7_3868937faa93level0_row1\" class=\"row_heading level0 row1\" >Ceftamin</th>\n",
       "                        <td id=\"T_455aa207_b8db_11eb_9ff7_3868937faa93row1_col0\" class=\"data row1 col0\" >52.59</td>\n",
       "                        <td id=\"T_455aa207_b8db_11eb_9ff7_3868937faa93row1_col1\" class=\"data row1 col1\" >51.78</td>\n",
       "                        <td id=\"T_455aa207_b8db_11eb_9ff7_3868937faa93row1_col2\" class=\"data row1 col2\" >39.29</td>\n",
       "                        <td id=\"T_455aa207_b8db_11eb_9ff7_3868937faa93row1_col3\" class=\"data row1 col3\" >6.27</td>\n",
       "                        <td id=\"T_455aa207_b8db_11eb_9ff7_3868937faa93row1_col4\" class=\"data row1 col4\" >0.47</td>\n",
       "            </tr>\n",
       "            <tr>\n",
       "                        <th id=\"T_455aa207_b8db_11eb_9ff7_3868937faa93level0_row2\" class=\"row_heading level0 row2\" >Infubinol</th>\n",
       "                        <td id=\"T_455aa207_b8db_11eb_9ff7_3868937faa93row2_col0\" class=\"data row2 col0\" >52.88</td>\n",
       "                        <td id=\"T_455aa207_b8db_11eb_9ff7_3868937faa93row2_col1\" class=\"data row2 col1\" >51.82</td>\n",
       "                        <td id=\"T_455aa207_b8db_11eb_9ff7_3868937faa93row2_col2\" class=\"data row2 col2\" >43.13</td>\n",
       "                        <td id=\"T_455aa207_b8db_11eb_9ff7_3868937faa93row2_col3\" class=\"data row2 col3\" >6.57</td>\n",
       "                        <td id=\"T_455aa207_b8db_11eb_9ff7_3868937faa93row2_col4\" class=\"data row2 col4\" >0.49</td>\n",
       "            </tr>\n",
       "            <tr>\n",
       "                        <th id=\"T_455aa207_b8db_11eb_9ff7_3868937faa93level0_row3\" class=\"row_heading level0 row3\" >Ketapril</th>\n",
       "                        <td id=\"T_455aa207_b8db_11eb_9ff7_3868937faa93row3_col0\" class=\"data row3 col0\" >55.24</td>\n",
       "                        <td id=\"T_455aa207_b8db_11eb_9ff7_3868937faa93row3_col1\" class=\"data row3 col1\" >53.70</td>\n",
       "                        <td id=\"T_455aa207_b8db_11eb_9ff7_3868937faa93row3_col2\" class=\"data row3 col2\" >68.55</td>\n",
       "                        <td id=\"T_455aa207_b8db_11eb_9ff7_3868937faa93row3_col3\" class=\"data row3 col3\" >8.28</td>\n",
       "                        <td id=\"T_455aa207_b8db_11eb_9ff7_3868937faa93row3_col4\" class=\"data row3 col4\" >0.60</td>\n",
       "            </tr>\n",
       "            <tr>\n",
       "                        <th id=\"T_455aa207_b8db_11eb_9ff7_3868937faa93level0_row4\" class=\"row_heading level0 row4\" >Naftisol</th>\n",
       "                        <td id=\"T_455aa207_b8db_11eb_9ff7_3868937faa93row4_col0\" class=\"data row4 col0\" >54.33</td>\n",
       "                        <td id=\"T_455aa207_b8db_11eb_9ff7_3868937faa93row4_col1\" class=\"data row4 col1\" >52.51</td>\n",
       "                        <td id=\"T_455aa207_b8db_11eb_9ff7_3868937faa93row4_col2\" class=\"data row4 col2\" >66.17</td>\n",
       "                        <td id=\"T_455aa207_b8db_11eb_9ff7_3868937faa93row4_col3\" class=\"data row4 col3\" >8.13</td>\n",
       "                        <td id=\"T_455aa207_b8db_11eb_9ff7_3868937faa93row4_col4\" class=\"data row4 col4\" >0.60</td>\n",
       "            </tr>\n",
       "            <tr>\n",
       "                        <th id=\"T_455aa207_b8db_11eb_9ff7_3868937faa93level0_row5\" class=\"row_heading level0 row5\" >Placebo</th>\n",
       "                        <td id=\"T_455aa207_b8db_11eb_9ff7_3868937faa93row5_col0\" class=\"data row5 col0\" >54.03</td>\n",
       "                        <td id=\"T_455aa207_b8db_11eb_9ff7_3868937faa93row5_col1\" class=\"data row5 col1\" >52.29</td>\n",
       "                        <td id=\"T_455aa207_b8db_11eb_9ff7_3868937faa93row5_col2\" class=\"data row5 col2\" >61.17</td>\n",
       "                        <td id=\"T_455aa207_b8db_11eb_9ff7_3868937faa93row5_col3\" class=\"data row5 col3\" >7.82</td>\n",
       "                        <td id=\"T_455aa207_b8db_11eb_9ff7_3868937faa93row5_col4\" class=\"data row5 col4\" >0.58</td>\n",
       "            </tr>\n",
       "            <tr>\n",
       "                        <th id=\"T_455aa207_b8db_11eb_9ff7_3868937faa93level0_row6\" class=\"row_heading level0 row6\" >Propriva</th>\n",
       "                        <td id=\"T_455aa207_b8db_11eb_9ff7_3868937faa93row6_col0\" class=\"data row6 col0\" >52.39</td>\n",
       "                        <td id=\"T_455aa207_b8db_11eb_9ff7_3868937faa93row6_col1\" class=\"data row6 col1\" >50.91</td>\n",
       "                        <td id=\"T_455aa207_b8db_11eb_9ff7_3868937faa93row6_col2\" class=\"data row6 col2\" >43.14</td>\n",
       "                        <td id=\"T_455aa207_b8db_11eb_9ff7_3868937faa93row6_col3\" class=\"data row6 col3\" >6.57</td>\n",
       "                        <td id=\"T_455aa207_b8db_11eb_9ff7_3868937faa93row6_col4\" class=\"data row6 col4\" >0.53</td>\n",
       "            </tr>\n",
       "            <tr>\n",
       "                        <th id=\"T_455aa207_b8db_11eb_9ff7_3868937faa93level0_row7\" class=\"row_heading level0 row7\" >Ramicane</th>\n",
       "                        <td id=\"T_455aa207_b8db_11eb_9ff7_3868937faa93row7_col0\" class=\"data row7 col0\" >40.22</td>\n",
       "                        <td id=\"T_455aa207_b8db_11eb_9ff7_3868937faa93row7_col1\" class=\"data row7 col1\" >40.67</td>\n",
       "                        <td id=\"T_455aa207_b8db_11eb_9ff7_3868937faa93row7_col2\" class=\"data row7 col2\" >23.49</td>\n",
       "                        <td id=\"T_455aa207_b8db_11eb_9ff7_3868937faa93row7_col3\" class=\"data row7 col3\" >4.85</td>\n",
       "                        <td id=\"T_455aa207_b8db_11eb_9ff7_3868937faa93row7_col4\" class=\"data row7 col4\" >0.32</td>\n",
       "            </tr>\n",
       "            <tr>\n",
       "                        <th id=\"T_455aa207_b8db_11eb_9ff7_3868937faa93level0_row8\" class=\"row_heading level0 row8\" >Stelasyn</th>\n",
       "                        <td id=\"T_455aa207_b8db_11eb_9ff7_3868937faa93row8_col0\" class=\"data row8 col0\" >54.23</td>\n",
       "                        <td id=\"T_455aa207_b8db_11eb_9ff7_3868937faa93row8_col1\" class=\"data row8 col1\" >52.43</td>\n",
       "                        <td id=\"T_455aa207_b8db_11eb_9ff7_3868937faa93row8_col2\" class=\"data row8 col2\" >59.45</td>\n",
       "                        <td id=\"T_455aa207_b8db_11eb_9ff7_3868937faa93row8_col3\" class=\"data row8 col3\" >7.71</td>\n",
       "                        <td id=\"T_455aa207_b8db_11eb_9ff7_3868937faa93row8_col4\" class=\"data row8 col4\" >0.57</td>\n",
       "            </tr>\n",
       "            <tr>\n",
       "                        <th id=\"T_455aa207_b8db_11eb_9ff7_3868937faa93level0_row9\" class=\"row_heading level0 row9\" >Zoniferol</th>\n",
       "                        <td id=\"T_455aa207_b8db_11eb_9ff7_3868937faa93row9_col0\" class=\"data row9 col0\" >53.24</td>\n",
       "                        <td id=\"T_455aa207_b8db_11eb_9ff7_3868937faa93row9_col1\" class=\"data row9 col1\" >51.82</td>\n",
       "                        <td id=\"T_455aa207_b8db_11eb_9ff7_3868937faa93row9_col2\" class=\"data row9 col2\" >48.53</td>\n",
       "                        <td id=\"T_455aa207_b8db_11eb_9ff7_3868937faa93row9_col3\" class=\"data row9 col3\" >6.97</td>\n",
       "                        <td id=\"T_455aa207_b8db_11eb_9ff7_3868937faa93row9_col4\" class=\"data row9 col4\" >0.52</td>\n",
       "            </tr>\n",
       "    </tbody></table>"
      ],
      "text/plain": [
       "<pandas.io.formats.style.Styler at 0x297dde94220>"
      ]
     },
     "execution_count": 8,
     "metadata": {},
     "output_type": "execute_result"
    }
   ],
   "source": [
    "# Use groupby and summary statistical methods to calculate the following properties of each drug regimen: \n",
    "regimen_data = clean_data_df.groupby('Drug Regimen')\n",
    "drug_labels = ['Capomulin', 'Ceftamin', 'Infubinol','Ketapril', 'Naftisol', 'Placebo', 'Propriva','Ramicane', 'Stelasyn', 'Zoniferol']\n",
    "\n",
    "# Generate a summary statistics table of mean, median, variance, standard deviation, and SEM of the tumor volume for each regimen\n",
    "mean = regimen_data[\"Tumor Volume (mm3)\"].mean()\n",
    "median = regimen_data[\"Tumor Volume (mm3)\"].median()\n",
    "variance = regimen_data[\"Tumor Volume (mm3)\"].var()\n",
    "deviation = regimen_data[\"Tumor Volume (mm3)\"].std()\n",
    "SEM = regimen_data[\"Tumor Volume (mm3)\"].sem()\n",
    "\n",
    "# Assemble the resulting series into a single summary dataframe.\n",
    "summary_stats_df = pd.DataFrame({\"Mean\" : mean,\n",
    "                               \"Median\" : median,\n",
    "                               \"Variance\" : variance,\n",
    "                               \"Standard Deviation\": deviation,\n",
    "                               \"SEM\" : SEM})\n",
    "\n",
    "summary_stats_df.style.format({\"Mean\": \"{:,.2f}\",\n",
    "                              \"Median\": \"{:,.2f}\",\n",
    "                              \"Variance\" : \"{:,.2f}\",\n",
    "                              \"Standard Deviation\" : \"{:,.2f}\",\n",
    "                               \"SEM\": \"{:,.2f}\"})\n"
   ]
  },
  {
   "cell_type": "markdown",
   "metadata": {},
   "source": [
    "## Bar and Pie Charts"
   ]
  },
  {
   "cell_type": "code",
   "execution_count": 9,
   "metadata": {},
   "outputs": [
    {
     "data": {
      "text/plain": [
       "<AxesSubplot:title={'center':'Measurements of Drug Regimens'}, xlabel='Drug Regimens', ylabel='Number of Measurements'>"
      ]
     },
     "execution_count": 9,
     "metadata": {},
     "output_type": "execute_result"
    },
    {
     "data": {
      "image/png": "[encoded data removed]",
      "text/plain": [
       "<Figure size 432x288 with 1 Axes>"
      ]
     },
     "metadata": {
      "needs_background": "light"
     },
     "output_type": "display_data"
    }
   ],
   "source": [
    "# Generate a bar plot showing the total number of measurements taken on each drug regimen using pandas.\n",
    "clean_data_df['Drug Regimen'].value_counts().plot.bar(xlabel='Drug Regimens', ylabel='Number of Measurements', title=\"Measurements of Drug Regimens\", color='#5FBBA6')\n"
   ]
  },
  {
   "cell_type": "code",
   "execution_count": 10,
   "metadata": {
    "scrolled": true
   },
   "outputs": [
    {
     "data": {
      "image/png": "[encoded data removed]",
      "text/plain": [
       "<Figure size 432x288 with 1 Axes>"
      ]
     },
     "metadata": {
      "needs_background": "light"
     },
     "output_type": "display_data"
    }
   ],
   "source": [
    "# Generate a bar plot showing the total number of measurements taken on each drug regimen using pyplot.\n",
    "plt.bar(clean_data_df['Drug Regimen'].value_counts().index, clean_data_df['Drug Regimen'].value_counts().values, color='#5FBBA6')\n",
    "plt.xticks(rotation='vertical')\n",
    "plt.title(\"Measurements of Drug Regimens\")\n",
    "plt.xlabel(\"Drug Regimens\")\n",
    "plt.ylabel(\"Number of Measurements\")\n",
    "plt.show()\n",
    "# Add chart labels\n"
   ]
  },
  {
   "cell_type": "code",
   "execution_count": 24,
   "metadata": {},
   "outputs": [
    {
     "data": {
      "text/plain": [
       "<AxesSubplot:ylabel='Sex'>"
      ]
     },
     "execution_count": 24,
     "metadata": {},
     "output_type": "execute_result"
    },
    {
     "data": {
      "image/png": "[encoded data removed]",
      "text/plain": [
       "<Figure size 432x288 with 1 Axes>"
      ]
     },
     "metadata": {},
     "output_type": "display_data"
    }
   ],
   "source": [
    "# Generate a pie plot showing the distribution of female versus male mice using pandas\n",
    "\n",
    "clean_data_df['Sex'].value_counts().plot.pie(autopct='%1.1f%%', colors = ['red', 'pink'])\n",
    "\n"
   ]
  },
  {
   "cell_type": "code",
   "execution_count": 20,
   "metadata": {},
   "outputs": [
    {
     "data": {
      "text/plain": [
       "<function matplotlib.pyplot.show(close=None, block=None)>"
      ]
     },
     "execution_count": 20,
     "metadata": {},
     "output_type": "execute_result"
    },
    {
     "data": {
      "image/png": "[encoded data removed]",
      "text/plain": [
       "<Figure size 432x288 with 1 Axes>"
      ]
     },
     "metadata": {},
     "output_type": "display_data"
    }
   ],
   "source": [
    "# Generate a pie plot showing the distribution of female versus male mice using pyplot\n",
    "labels = ['Male', 'Female']\n",
    "colors = ['#5FBBA6', '#D966BA']\n",
    "plt.pie(clean_data_df['Sex'].value_counts(), labels=labels, colors=colors, autopct='%1.1f%%')\n",
    "plt.ylabel('Sex')\n",
    "plt.show\n"
   ]
  },
  {
   "cell_type": "markdown",
   "metadata": {},
   "source": [
    "## Quartiles, Outliers and Boxplots"
   ]
  },
  {
   "cell_type": "code",
   "execution_count": 12,
   "metadata": {},
   "outputs": [
    {
     "data": {
      "text/plain": [
       "Mouse ID\n",
       "a203    45\n",
       "a251    45\n",
       "a262    45\n",
       "a275    45\n",
       "a366    30\n",
       "        ..\n",
       "z435    10\n",
       "z578    45\n",
       "z581    45\n",
       "z795    45\n",
       "z969    45\n",
       "Name: Timepoint, Length: 249, dtype: int64"
      ]
     },
     "execution_count": 12,
     "metadata": {},
     "output_type": "execute_result"
    }
   ],
   "source": [
    "# Calculate the final tumor volume of each mouse across four of the treatment regimens:  \n",
    "# Capomulin, Ramicane, Infubinol, and Ceftamin\n",
    "\n",
    "# Start by getting the last (greatest) timepoint for each mouse\n",
    "clean_data_df.groupby(['Mouse ID']).max()['Timepoint']"
   ]
  },
  {
   "cell_type": "code",
   "execution_count": 13,
   "metadata": {},
   "outputs": [
    {
     "data": {
      "text/html": [
       "<div>\n",
       "<style scoped>\n",
       "    .dataframe tbody tr th:only-of-type {\n",
       "        vertical-align: middle;\n",
       "    }\n",
       "\n",
       "    .dataframe tbody tr th {\n",
       "        vertical-align: top;\n",
       "    }\n",
       "\n",
       "    .dataframe thead th {\n",
       "        text-align: right;\n",
       "    }\n",
       "</style>\n",
       "<table border=\"1\" class=\"dataframe\">\n",
       "  <thead>\n",
       "    <tr style=\"text-align: right;\">\n",
       "      <th></th>\n",
       "      <th>Mouse ID</th>\n",
       "      <th>Drug Regimen</th>\n",
       "      <th>Sex</th>\n",
       "      <th>Age_months</th>\n",
       "      <th>Weight (g)</th>\n",
       "      <th>Timepoint</th>\n",
       "      <th>Tumor Volume (mm3)</th>\n",
       "      <th>Metastatic Sites</th>\n",
       "    </tr>\n",
       "  </thead>\n",
       "  <tbody>\n",
       "    <tr>\n",
       "      <th>0</th>\n",
       "      <td>k403</td>\n",
       "      <td>Ramicane</td>\n",
       "      <td>Male</td>\n",
       "      <td>21</td>\n",
       "      <td>16</td>\n",
       "      <td>45</td>\n",
       "      <td>22.050126</td>\n",
       "      <td>1</td>\n",
       "    </tr>\n",
       "    <tr>\n",
       "      <th>1</th>\n",
       "      <td>s185</td>\n",
       "      <td>Capomulin</td>\n",
       "      <td>Female</td>\n",
       "      <td>3</td>\n",
       "      <td>17</td>\n",
       "      <td>45</td>\n",
       "      <td>23.343598</td>\n",
       "      <td>1</td>\n",
       "    </tr>\n",
       "    <tr>\n",
       "      <th>2</th>\n",
       "      <td>x401</td>\n",
       "      <td>Capomulin</td>\n",
       "      <td>Female</td>\n",
       "      <td>16</td>\n",
       "      <td>15</td>\n",
       "      <td>45</td>\n",
       "      <td>28.484033</td>\n",
       "      <td>0</td>\n",
       "    </tr>\n",
       "    <tr>\n",
       "      <th>3</th>\n",
       "      <td>m601</td>\n",
       "      <td>Capomulin</td>\n",
       "      <td>Male</td>\n",
       "      <td>22</td>\n",
       "      <td>17</td>\n",
       "      <td>45</td>\n",
       "      <td>28.430964</td>\n",
       "      <td>1</td>\n",
       "    </tr>\n",
       "    <tr>\n",
       "      <th>4</th>\n",
       "      <td>g791</td>\n",
       "      <td>Ramicane</td>\n",
       "      <td>Male</td>\n",
       "      <td>11</td>\n",
       "      <td>16</td>\n",
       "      <td>45</td>\n",
       "      <td>29.128472</td>\n",
       "      <td>1</td>\n",
       "    </tr>\n",
       "    <tr>\n",
       "      <th>...</th>\n",
       "      <td>...</td>\n",
       "      <td>...</td>\n",
       "      <td>...</td>\n",
       "      <td>...</td>\n",
       "      <td>...</td>\n",
       "      <td>...</td>\n",
       "      <td>...</td>\n",
       "      <td>...</td>\n",
       "    </tr>\n",
       "    <tr>\n",
       "      <th>244</th>\n",
       "      <td>z314</td>\n",
       "      <td>Stelasyn</td>\n",
       "      <td>Female</td>\n",
       "      <td>21</td>\n",
       "      <td>28</td>\n",
       "      <td>5</td>\n",
       "      <td>45.934712</td>\n",
       "      <td>0</td>\n",
       "    </tr>\n",
       "    <tr>\n",
       "      <th>245</th>\n",
       "      <td>z435</td>\n",
       "      <td>Propriva</td>\n",
       "      <td>Female</td>\n",
       "      <td>12</td>\n",
       "      <td>26</td>\n",
       "      <td>10</td>\n",
       "      <td>48.710661</td>\n",
       "      <td>0</td>\n",
       "    </tr>\n",
       "    <tr>\n",
       "      <th>246</th>\n",
       "      <td>z581</td>\n",
       "      <td>Infubinol</td>\n",
       "      <td>Female</td>\n",
       "      <td>24</td>\n",
       "      <td>25</td>\n",
       "      <td>45</td>\n",
       "      <td>62.754451</td>\n",
       "      <td>3</td>\n",
       "    </tr>\n",
       "    <tr>\n",
       "      <th>247</th>\n",
       "      <td>z795</td>\n",
       "      <td>Naftisol</td>\n",
       "      <td>Female</td>\n",
       "      <td>13</td>\n",
       "      <td>29</td>\n",
       "      <td>45</td>\n",
       "      <td>65.741070</td>\n",
       "      <td>3</td>\n",
       "    </tr>\n",
       "    <tr>\n",
       "      <th>248</th>\n",
       "      <td>z969</td>\n",
       "      <td>Naftisol</td>\n",
       "      <td>Male</td>\n",
       "      <td>9</td>\n",
       "      <td>30</td>\n",
       "      <td>45</td>\n",
       "      <td>73.867845</td>\n",
       "      <td>4</td>\n",
       "    </tr>\n",
       "  </tbody>\n",
       "</table>\n",
       "<p>249 rows × 8 columns</p>\n",
       "</div>"
      ],
      "text/plain": [
       "    Mouse ID Drug Regimen     Sex  Age_months  Weight (g)  Timepoint  \\\n",
       "0       k403     Ramicane    Male          21          16         45   \n",
       "1       s185    Capomulin  Female           3          17         45   \n",
       "2       x401    Capomulin  Female          16          15         45   \n",
       "3       m601    Capomulin    Male          22          17         45   \n",
       "4       g791     Ramicane    Male          11          16         45   \n",
       "..       ...          ...     ...         ...         ...        ...   \n",
       "244     z314     Stelasyn  Female          21          28          5   \n",
       "245     z435     Propriva  Female          12          26         10   \n",
       "246     z581    Infubinol  Female          24          25         45   \n",
       "247     z795     Naftisol  Female          13          29         45   \n",
       "248     z969     Naftisol    Male           9          30         45   \n",
       "\n",
       "     Tumor Volume (mm3)  Metastatic Sites  \n",
       "0             22.050126                 1  \n",
       "1             23.343598                 1  \n",
       "2             28.484033                 0  \n",
       "3             28.430964                 1  \n",
       "4             29.128472                 1  \n",
       "..                  ...               ...  \n",
       "244           45.934712                 0  \n",
       "245           48.710661                 0  \n",
       "246           62.754451                 3  \n",
       "247           65.741070                 3  \n",
       "248           73.867845                 4  \n",
       "\n",
       "[249 rows x 8 columns]"
      ]
     },
     "execution_count": 13,
     "metadata": {},
     "output_type": "execute_result"
    }
   ],
   "source": [
    "# Merge this group df with the original dataframe to get the tumor volume at the last timepoint\n",
    "clean_data_df.merge(pd.DataFrame(clean_data_df.groupby(['Mouse ID']).max()['Timepoint']), on=['Timepoint','Mouse ID'], how='inner')"
   ]
  },
  {
   "cell_type": "code",
   "execution_count": 45,
   "metadata": {},
   "outputs": [
    {
     "name": "stdout",
     "output_type": "stream",
     "text": [
      "Capomulin:\n",
      "Lower quartile: 37.69\n",
      "Upper quartile: 45.0\n",
      "Inter-quartile range:7.31\n",
      "Values below 26.72 may be outliers\n",
      "Values above 55.96 may be outliers\n",
      "------------------------------------------------\n",
      "Ramicane:\n",
      "Lower quartile: 36.67\n",
      "Upper quartile: 45.0\n",
      "Inter-quartile range:8.33\n",
      "Values below 24.18 may be outliers\n",
      "Values above 57.5 may be outliers\n",
      "------------------------------------------------\n",
      "Infubinol:\n",
      "Lower quartile: 47.31\n",
      "Upper quartile: 57.31\n",
      "Inter-quartile range:10.0\n",
      "Values below 32.31 may be outliers\n",
      "Values above 72.31 may be outliers\n",
      "------------------------------------------------\n",
      "Ceftamin:\n",
      "Lower quartile: 47.21\n",
      "Upper quartile: 56.8\n",
      "Inter-quartile range:9.59\n",
      "Values below 32.83 may be outliers\n",
      "Values above 71.18 may be outliers\n",
      "------------------------------------------------\n"
     ]
    }
   ],
   "source": [
    "# Put treatments into a list for for loop (and later for plot labels)\n",
    "treatments = ['Capomulin', 'Ramicane', 'Infubinol', 'Ceftamin']\n",
    "\n",
    "# Create empty list to fill with tumor vol data (for plotting)\n",
    "tumor_volume = []\n",
    "\n",
    "# Calculate the IQR and quantitatively determine if there are any potential outliers. \n",
    "for treatment in treatments:\n",
    "    \n",
    "    # Locate the rows which contain mice on each drug and get the tumor volumes\n",
    "    treatment_df = clean_data_df[clean_data_df['Drug Regimen']==treatment]\n",
    "    \n",
    "    # add subset \n",
    "    tumor_volume.append(treatment_df['Tumor Volume (mm3)'])\n",
    "    \n",
    "    # Determine outliers using upper and lower bounds\n",
    "    quartiles = (treatment_df['Tumor Volume (mm3)']).quantile([.25,.5,.75])\n",
    "    lowerq = quartiles[0.25].round(2)\n",
    "    upperq = quartiles[0.75].round(2)\n",
    "    iqr = (upperq-lowerq).round(2)\n",
    "    lower_bound = (lowerq - (1.5*iqr)).round(2)\n",
    "    upper_bound = (upperq + (1.5*iqr)).round(2)\n",
    " \n",
    "\n",
    "    print (f'{treatment}:')\n",
    "    print(f'Lower quartile: {lowerq}')\n",
    "    print(f'Upper quartile: {upperq}')       \n",
    "    print(f'Inter-quartile range:{iqr}')\n",
    "    print(f'Values below {lower_bound} may be outliers')\n",
    "    print(f'Values above {upper_bound} may be outliers')\n",
    "    print(f'------------------------------------------------')"
   ]
  },
  {
   "cell_type": "code",
   "execution_count": 40,
   "metadata": {},
   "outputs": [
    {
     "data": {
      "text/plain": [
       "{'whiskers': [<matplotlib.lines.Line2D at 0x297e39ff2b0>,\n",
       "  <matplotlib.lines.Line2D at 0x297e39ff610>,\n",
       "  <matplotlib.lines.Line2D at 0x297e3a0ca90>,\n",
       "  <matplotlib.lines.Line2D at 0x297e3a0cdf0>,\n",
       "  <matplotlib.lines.Line2D at 0x297e3a232e0>,\n",
       "  <matplotlib.lines.Line2D at 0x297e3a23640>,\n",
       "  <matplotlib.lines.Line2D at 0x297e3a2bac0>,\n",
       "  <matplotlib.lines.Line2D at 0x297e3a2be20>],\n",
       " 'caps': [<matplotlib.lines.Line2D at 0x297e39ff970>,\n",
       "  <matplotlib.lines.Line2D at 0x297e39ffcd0>,\n",
       "  <matplotlib.lines.Line2D at 0x297e3a17190>,\n",
       "  <matplotlib.lines.Line2D at 0x297e3a174f0>,\n",
       "  <matplotlib.lines.Line2D at 0x297e3a239a0>,\n",
       "  <matplotlib.lines.Line2D at 0x297e3a23d00>,\n",
       "  <matplotlib.lines.Line2D at 0x297e3a361c0>,\n",
       "  <matplotlib.lines.Line2D at 0x297e3a36520>],\n",
       " 'boxes': [<matplotlib.lines.Line2D at 0x297e39f1f10>,\n",
       "  <matplotlib.lines.Line2D at 0x297e3a0c730>,\n",
       "  <matplotlib.lines.Line2D at 0x297e3a17f40>,\n",
       "  <matplotlib.lines.Line2D at 0x297e3a2b760>],\n",
       " 'medians': [<matplotlib.lines.Line2D at 0x297e3a0c070>,\n",
       "  <matplotlib.lines.Line2D at 0x297e3a17880>,\n",
       "  <matplotlib.lines.Line2D at 0x297e3a2b0a0>,\n",
       "  <matplotlib.lines.Line2D at 0x297e3a36880>],\n",
       " 'fliers': [<matplotlib.lines.Line2D at 0x297e3a0c3d0>,\n",
       "  <matplotlib.lines.Line2D at 0x297e3a17be0>,\n",
       "  <matplotlib.lines.Line2D at 0x297e3a2b400>,\n",
       "  <matplotlib.lines.Line2D at 0x297e3a36be0>],\n",
       " 'means': []}"
      ]
     },
     "execution_count": 40,
     "metadata": {},
     "output_type": "execute_result"
    },
    {
     "data": {
      "image/png": "[encoded data removed]",
      "text/plain": [
       "<Figure size 432x288 with 1 Axes>"
      ]
     },
     "metadata": {
      "needs_background": "light"
     },
     "output_type": "display_data"
    }
   ],
   "source": [
    "# Generate a box plot of the final tumor volume of each mouse across four regimens of interest\n",
    "plt.boxplot(tumor_volume)"
   ]
  },
  {
   "cell_type": "markdown",
   "metadata": {},
   "source": [
    "## Line and Scatter Plots"
   ]
  },
  {
   "cell_type": "code",
   "execution_count": 41,
   "metadata": {},
   "outputs": [
    {
     "data": {
      "image/png": "[encoded data removed]",
      "text/plain": [
       "<Figure size 432x288 with 1 Axes>"
      ]
     },
     "metadata": {
      "needs_background": "light"
     },
     "output_type": "display_data"
    }
   ],
   "source": [
    "# Generate a line plot of tumor volume vs. time point for a mouse treated with Capomulin\n",
    "# Make DataFrame of all mice treated with Capomulin\n",
    "capomulin_df = clean_data_df[clean_data_df[\"Drug Regimen\"] == \"Capomulin\"]\n",
    "\n",
    "# Identify a single mouse\n",
    "mousey = capomulin_df.loc[clean_data_df['Mouse ID'] == 'x401']\n",
    "\n",
    "# Plot the line chart\n",
    "plt.plot(mousey['Timepoint'], mousey['Tumor Volume (mm3)'], marker='o', color='#5FBBA6')\n",
    "\n",
    "#Add labels & display\n",
    "plt.xlabel('Timepoint')\n",
    "plt.ylabel('Tumor Volume (mm3)')\n",
    "plt.title('Mouse x401: Capomulin Treatment')\n",
    "plt.show()"
   ]
  },
  {
   "cell_type": "code",
   "execution_count": 42,
   "metadata": {
    "scrolled": true
   },
   "outputs": [
    {
     "data": {
      "image/png": "[encoded data removed]",
      "text/plain": [
       "<Figure size 432x288 with 1 Axes>"
      ]
     },
     "metadata": {
      "needs_background": "light"
     },
     "output_type": "display_data"
    }
   ],
   "source": [
    "# Generate a scatter plot of average tumor volume vs. mouse weight for the Capomulin regimen\n",
    "# tumor_avg = treatment_df['Capomulin'].mean()\n",
    "# print(tumor_avg)\n",
    "capomulin_df = clean_data_df[clean_data_df[\"Drug Regimen\"] == \"Capomulin\"]\n",
    "avg_cap_vol = capomulin_df.groupby(['Mouse ID']).mean()\n",
    "\n",
    "plt.scatter(avg_cap_vol['Weight (g)'],avg_cap_vol['Tumor Volume (mm3)'], color='#5FBBA6')\n",
    "plt.xlabel(\"Tumor Volume (mm3)\")\n",
    "plt.ylabel(\"Mouse Weight (g)\")\n",
    "plt.title('Average Tumor Volume vs. Weight')\n",
    "plt.show()"
   ]
  },
  {
   "cell_type": "markdown",
   "metadata": {},
   "source": [
    "## Correlation and Regression"
   ]
  },
  {
   "cell_type": "code",
   "execution_count": 43,
   "metadata": {},
   "outputs": [
    {
     "data": {
      "image/png": "[encoded data removed]",
      "text/plain": [
       "<Figure size 432x288 with 1 Axes>"
      ]
     },
     "metadata": {
      "needs_background": "light"
     },
     "output_type": "display_data"
    }
   ],
   "source": [
    "# Calculate the correlation coefficient and linear regression model \n",
    "coef = np.polyfit(avg_cap_vol['Weight (g)'], avg_cap_vol['Tumor Volume (mm3)'],1)\n",
    "line = np.poly1d(coef) \n",
    "# poly1d_fn is now a function which takes in x and returns an estimate for y\n",
    "plt.plot(avg_cap_vol['Weight (g)'], avg_cap_vol['Tumor Volume (mm3)'], 'yo', avg_cap_vol['Weight (g)'],  line(avg_cap_vol['Weight (g)']), '--k')\n",
    "plt.xlabel(\"Tumor Volume (mm3)\")\n",
    "plt.ylabel(\"Mouse Weight\")\n",
    "plt.title(\"Coefficient and Linear Regression Model of Tumor Volume on Capomulin\")\n",
    "plt.show()"
   ]
  },
  {
   "cell_type": "code",
   "execution_count": null,
   "metadata": {},
   "outputs": [],
   "source": []
  }
 ],
 "metadata": {
  "anaconda-cloud": {},
  "kernelspec": {
   "display_name": "Python 3",
   "language": "python",
   "name": "python3"
  },
  "language_info": {
   "codemirror_mode": {
    "name": "ipython",
    "version": 3
   },
   "file_extension": ".py",
   "mimetype": "text/x-python",
   "name": "python",
   "nbconvert_exporter": "python",
   "pygments_lexer": "ipython3",
   "version": "3.8.5"
  }
 },
 "nbformat": 4,
 "nbformat_minor": 4
}
